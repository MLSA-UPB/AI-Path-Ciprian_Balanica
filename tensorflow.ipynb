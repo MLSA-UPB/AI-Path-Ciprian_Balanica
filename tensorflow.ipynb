{
 "metadata": {
  "language_info": {
   "codemirror_mode": {
    "name": "ipython",
    "version": 3
   },
   "file_extension": ".py",
   "mimetype": "text/x-python",
   "name": "python",
   "nbconvert_exporter": "python",
   "pygments_lexer": "ipython3",
   "version": "3.8.5-final"
  },
  "orig_nbformat": 2,
  "kernelspec": {
   "name": "python3",
   "display_name": "Python 3.8.5 64-bit",
   "metadata": {
    "interpreter": {
     "hash": "1baa965d5efe3ac65b79dfc60c0d706280b1da80fedb7760faf2759126c4f253"
    }
   }
  }
 },
 "nbformat": 4,
 "nbformat_minor": 2,
 "cells": [
  {
   "cell_type": "code",
   "execution_count": 19,
   "metadata": {},
   "outputs": [],
   "source": [
    "import numpy as np\n",
    "import random\n",
    "from ipywidgets import interact\n",
    "import matplotlib.pyplot as plt\n",
    "import tensorflow.compat.v1 as tf \n",
    "\n",
    "tf.disable_v2_behavior()"
   ]
  },
  {
   "cell_type": "code",
   "execution_count": 20,
   "metadata": {},
   "outputs": [
    {
     "output_type": "stream",
     "name": "stdout",
     "text": [
      "[ 0.22195587  0.07398529 -0.07398529 -0.22195587]\n[ 0.22195585  0.07398528 -0.07398528 -0.22195585]\n"
     ]
    },
    {
     "output_type": "display_data",
     "data": {
      "text/plain": "Canvas(toolbar=Toolbar(toolitems=[('Home', 'Reset original view', 'home', 'home'), ('Back', 'Back to previous …",
      "application/vnd.jupyter.widget-view+json": {
       "version_major": 2,
       "version_minor": 0,
       "model_id": "f7e46e6d105e4c0f95e24405676a012a"
      }
     },
     "metadata": {}
    }
   ],
   "source": [
    "\n",
    "random.seed(9)\n",
    "\n",
    "x_data = np.array([-3,-1,1,3])\n",
    "t_data = np.array([3,4.5,4.5,5.5])\n",
    "\n",
    "m_init = random.uniform(-1,1)\n",
    "c_init = 0\n",
    "\n",
    "x_input = tf.placeholder(dtype=tf.float32, shape=[None])\n",
    "m = tf.Variable(m_init, dtype=tf.float32, name=\"m\")\n",
    "c = tf.Variable(c_init, dtype=tf.float32, name=\"c\")\n",
    "\n",
    "mx = tf.multiply(m,x_input)\n",
    "y_model = tf.add(mx,c)\n",
    "\n",
    "sess = tf.Session()\n",
    "sess.run(tf.global_variables_initializer())\n",
    "output = sess.run(y_model, feed_dict={x_input: x_data})\n",
    "print(output)\n",
    "\n",
    "y_init = m_init*x_data+c_init\n",
    "print(y_init)\n",
    "\n",
    "fig=plt.figure()\n",
    "plt.scatter(x_data, t_data)\n",
    "plt.plot(x_data,y_init)\n",
    "fig.canvas.draw()\n",
    "\n",
    "target = tf.placeholder(dtype=tf.float32, shape=[None])\n",
    "error = tf.square(tf.subtract(y_model, target))\n",
    "loss = tf.reduce_sum(error)\n",
    "\n",
    "optimizer = tf.train.GradientDescentOptimizer(learning_rate=0.01)\n",
    "train_step = optimizer.minimize(loss)\n",
    "plt.ion()\n",
    "\n",
    "iterations = 200\n",
    "\n",
    "for i in range(iterations):\n",
    "    sess.run(train_step, feed_dict={x_input: x_data, target: t_data})\n",
    "\n",
    "    y_next = sess.run(y_model, feed_dict={x_input: x_data, target: t_data})\n",
    "    line, = plt.plot(x_data, y_next)\n",
    "    \n",
    "    plt.show()\n",
    "    line.remove()\n",
    "\n",
    "plt.plot(x_data,y_next)\n",
    "fig.canvas.draw()\n",
    "sess.close()"
   ]
  },
  {
   "cell_type": "code",
   "execution_count": null,
   "metadata": {},
   "outputs": [],
   "source": []
  }
 ]
}