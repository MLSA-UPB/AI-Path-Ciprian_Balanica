{
 "metadata": {
  "language_info": {
   "codemirror_mode": {
    "name": "ipython",
    "version": 3
   },
   "file_extension": ".py",
   "mimetype": "text/x-python",
   "name": "python",
   "nbconvert_exporter": "python",
   "pygments_lexer": "ipython3",
   "version": "3.8.5-final"
  },
  "orig_nbformat": 2,
  "kernelspec": {
   "name": "python3",
   "display_name": "Python 3.8.5 64-bit",
   "metadata": {
    "interpreter": {
     "hash": "1baa965d5efe3ac65b79dfc60c0d706280b1da80fedb7760faf2759126c4f253"
    }
   }
  }
 },
 "nbformat": 4,
 "nbformat_minor": 2,
 "cells": [
  {
   "cell_type": "code",
   "execution_count": 2,
   "metadata": {},
   "outputs": [
    {
     "output_type": "stream",
     "name": "stdout",
     "text": [
      "Gym: 0.18.0\n"
     ]
    }
   ],
   "source": [
    "import gym\n",
    "import random\n",
    "import numpy as np\n",
    "import time\n",
    "from gym.envs.registration import register\n",
    "from IPython.display import clear_output\n",
    "\n",
    "print(\"Gym:\", gym.__version__)"
   ]
  },
  {
   "cell_type": "code",
   "execution_count": 3,
   "metadata": {},
   "outputs": [
    {
     "output_type": "stream",
     "name": "stdout",
     "text": [
      "Observation space: Discrete(16)\nAction space: Discrete(4)\n"
     ]
    }
   ],
   "source": [
    "try:\n",
    "    register(\n",
    "        id='FrozenLakeNoSlip-v0',\n",
    "        entry_point='gym.envs.toy_text:FrozenLakeEnv',\n",
    "        kwargs={'map_name' : '4x4', 'is_slippery':False},\n",
    "        max_episode_steps=100,\n",
    "        reward_threshold=0.78, # optimum = .8196\n",
    "    )\n",
    "except:\n",
    "    pass\n",
    "\n",
    "env_name = \"FrozenLake-v0\"\n",
    "env_name = \"FrozenLakeNoSlip-v0\"\n",
    "# env_name = \"CartPole-v0\"\n",
    "env = gym.make(env_name)\n",
    "print(\"Observation space:\", env.observation_space)\n",
    "print(\"Action space:\", env.action_space)"
   ]
  },
  {
   "cell_type": "code",
   "execution_count": 4,
   "metadata": {},
   "outputs": [],
   "source": [
    "class Agent():\n",
    "    def __init__(self, env):\n",
    "        self.is_discrete = type(env.action_space) == gym.spaces.discrete.Discrete\n",
    "        \n",
    "        if self.is_discrete:\n",
    "            self.action_size = env.action_space.n\n",
    "            print(\"Action size:\", env.action_space)\n",
    "        else:\n",
    "            self.action_low = env.action_space.low\n",
    "            self.action_high = env.action_space.high\n",
    "            self.action_shape = env.action_space.shape\n",
    "            print(\"Action range:\", self.action_low, self.action_high)\n",
    "            \n",
    "    def get_action(self, state):\n",
    "        if self.is_discrete:\n",
    "            action = random.choice(range(self.action_size))\n",
    "        else:\n",
    "            action = np.random.uniform(self.action_low,\n",
    "                                       self.action_high,\n",
    "                                       self.action_shape)\n",
    "                                       \n",
    "        return action\n"
   ]
  },
  {
   "cell_type": "code",
   "execution_count": 5,
   "metadata": {},
   "outputs": [
    {
     "output_type": "stream",
     "name": "stdout",
     "text": [
      "Action size: Discrete(4)\nState size: 16\n"
     ]
    }
   ],
   "source": [
    "class QAgent(Agent):\n",
    "    def __init__(self, env, discount_rate = 0.97, learning_rate = 0.01):\n",
    "        super().__init__(env)\n",
    "        self.state_size = env.observation_space.n\n",
    "        print(\"State size:\", self.state_size)\n",
    "\n",
    "        self.eps = 1.0\n",
    "        self.discount_rate = discount_rate\n",
    "        self.learning_rate = learning_rate\n",
    "        self.build_model()\n",
    "    \n",
    "    def build_model(self):\n",
    "        self.q_table = 1e-4*np.random.random([self.state_size, self.action_size])\n",
    "\n",
    "    def get_action(self, state):\n",
    "        q_state = self.q_table[state]\n",
    "        action_greedy = np.argmax(q_state)\n",
    "        action_random = super().get_action(state)\n",
    "        return action_random if random.random() < self.eps else action_greedy\n",
    "\n",
    "    def train(self, experience):\n",
    "        state, action, next_state, reward, done = experience\n",
    "\n",
    "        q_next = self.q_table[next_state]\n",
    "        q_next = np.zeros([self.action_size]) if done else q_next\n",
    "        q_target = reward + self.discount_rate * np.max(q_next)\n",
    "\n",
    "        q_update = q_target - self.q_table[state,action]\n",
    "        self.q_table[state,action] += self.learning_rate * q_update\n",
    "\n",
    "        if done:\n",
    "            self.eps = self.eps * 0.99\n",
    "\n",
    "agent = QAgent(env)"
   ]
  },
  {
   "cell_type": "code",
   "execution_count": 6,
   "metadata": {},
   "outputs": [
    {
     "output_type": "stream",
     "name": "stdout",
     "text": [
      "s: 15 a: 2\n",
      "Episode: 399, Total reward: 279.0, eps: 0.017950553275045134, Continuous Wins: 76\n",
      "  (Right)\n",
      "SFFF\n",
      "FHFH\n",
      "FFFH\n",
      "HFF\u001b[41mG\u001b[0m\n",
      "[[1.00441529e-04 5.92524382e-02 4.39493555e-05 3.07129301e-04]\n",
      " [3.84850635e-04 7.83897619e-05 2.90909847e-05 3.54118741e-05]\n",
      " [1.13552485e-05 9.33453145e-05 8.81890804e-05 3.46433185e-05]\n",
      " [7.89990156e-05 8.53004778e-05 1.92451445e-05 8.63781127e-05]\n",
      " [1.25525743e-03 1.38185872e-01 6.39349354e-05 2.68601197e-04]\n",
      " [6.18711400e-05 5.90049394e-05 6.01829444e-05 2.82805969e-05]\n",
      " [4.68059003e-05 4.27369785e-06 4.60602784e-05 3.60540809e-05]\n",
      " [3.57686878e-05 6.99469029e-05 4.58455417e-05 5.61341390e-05]\n",
      " [3.73283095e-04 3.99906875e-05 2.78802715e-01 2.78270929e-03]\n",
      " [3.30042251e-03 4.89855718e-01 6.52345444e-03 4.62398086e-05]\n",
      " [1.54494451e-04 1.25253312e-01 1.28391196e-05 8.38391222e-05]\n",
      " [4.84839738e-05 4.22876436e-06 7.48124009e-05 4.75521184e-05]\n",
      " [8.47689933e-06 5.46813687e-05 1.25010425e-05 6.82895756e-06]\n",
      " [5.39818013e-05 7.89624235e-03 7.40652769e-01 7.94728582e-04]\n",
      " [8.76236460e-03 7.51873105e-02 9.39439028e-01 5.66320025e-03]\n",
      " [6.70441236e-05 1.88519477e-05 1.55464269e-05 9.49935189e-07]]\n"
     ]
    }
   ],
   "source": [
    "total_reward = 0\n",
    "streak = 0\n",
    "for ep in range(400):\n",
    "    state = env.reset()\n",
    "    done = False\n",
    "    #for _ in range(200):\n",
    "    while not done:\n",
    "        # action = env.action_space.sample()\n",
    "        action = agent.get_action(state)\n",
    "        next_state, reward, done, info = env.step(action)\n",
    "        agent.train((state, action, next_state, reward, done))\n",
    "        state = next_state\n",
    "        total_reward += reward\n",
    "\n",
    "        print(\"s:\", state, \"a:\", action)\n",
    "        print(\"Episode: {}, Total reward: {}, eps: {}, Continuous Wins: {}\".format(ep,total_reward,agent.eps, streak))\n",
    "        env.render()\n",
    "        print(agent.q_table)\n",
    "        time.sleep(0.02)\n",
    "        clear_output(wait=True)\n",
    "    if done and reward > 0:\n",
    "        streak += 1\n",
    "    else:\n",
    "        streak = 0\n",
    "    #env.close()"
   ]
  },
  {
   "cell_type": "code",
   "execution_count": null,
   "metadata": {},
   "outputs": [],
   "source": []
  }
 ]
}